{
 "cells": [
  {
   "cell_type": "markdown",
   "metadata": {},
   "source": [
    "##Object Oriented Programming - Inheritance and less than method "
   ]
  },
  {
   "cell_type": "markdown",
   "metadata": {},
   "source": [
    "__One should be careful when using sort or less than method between an inherted class and a superclass object__"
   ]
  },
  {
   "cell_type": "code",
   "execution_count": 2,
   "metadata": {
    "collapsed": true
   },
   "outputs": [],
   "source": [
    "import datetime\n",
    "class Person(object):\n",
    "    def __init__(self, name):\n",
    "#    \"\"\"create a person called name\"\"\"\n",
    "        self.name = name\n",
    "        self.birthday = None\n",
    "        self.lastName = name.split(' ')[-1]\n",
    "\n",
    "    def setBirthday(self,month,day,year):\n",
    "#    \"\"\"sets self's birthday to birthDate\"\"\" \n",
    "        self.birthday = datetime.date(year,month,day)\n",
    "    def getAge(self):\n",
    "#    \"\"\"returns self's current age in days\"\"\" \n",
    "        if self.birthday == None:\n",
    "            raise ValueError\n",
    "        return ((datetime.date.today() - self.birthday).days/365.0)\n",
    "    def __lt__(self, other):\n",
    "#    \"\"\"return True if self's ame is lexicographically\n",
    "#    less than other's name, and False otherwise\"\"\"\n",
    "        if self.lastName == other.lastName: \n",
    "            return self.name < other.name\n",
    "        return self.lastName < other.lastName # other methods\n",
    "    def __str__(self):\n",
    "#    \"\"\"return self's name\"\"\" \n",
    "        return self.name"
   ]
  },
  {
   "cell_type": "markdown",
   "metadata": {},
   "source": [
    "##Note that the less than() method defined in the inherited class MITPerson is different from that defined in class Person"
   ]
  },
  {
   "cell_type": "code",
   "execution_count": 6,
   "metadata": {
    "collapsed": false
   },
   "outputs": [],
   "source": [
    "class MITPerson(Person):\n",
    "    #### nextIdNum is a class attribute that is shared by all objects of this class\n",
    "    nextIdNum = 0 # next ID number to assign\n",
    "    def __init__(self, name):\n",
    "        Person.__init__(self, name) # initialize Person attributes\n",
    "# new MITPerson attribute: a unique ID number \n",
    "        self.idNum = MITPerson.nextIdNum \n",
    "        MITPerson.nextIdNum += 1\n",
    "    def getIdNum(self):\n",
    "        return self.idNum\n",
    "# sorting MIT people uses their ID number, not name!\n",
    "    def __lt__(self, other):\n",
    "        return self.idNum < other.idNum"
   ]
  },
  {
   "cell_type": "code",
   "execution_count": 7,
   "metadata": {
    "collapsed": true
   },
   "outputs": [],
   "source": [
    "p1=MITPerson(\"Chris\")\n",
    "p2=MITPerson(\"John\")\n",
    "p3=MITPerson(\"John\")\n",
    "p4=Person(\"John\")"
   ]
  },
  {
   "cell_type": "markdown",
   "metadata": {},
   "source": [
    "###Examine lt() function - less than"
   ]
  },
  {
   "cell_type": "code",
   "execution_count": 9,
   "metadata": {
    "collapsed": false
   },
   "outputs": [
    {
     "data": {
      "text/plain": [
       "False"
      ]
     },
     "execution_count": 9,
     "metadata": {},
     "output_type": "execute_result"
    }
   ],
   "source": [
    "p4<p1"
   ]
  },
  {
   "cell_type": "code",
   "execution_count": 13,
   "metadata": {
    "collapsed": false
   },
   "outputs": [
    {
     "name": "stdout",
     "output_type": "stream",
     "text": [
      "error\n"
     ]
    }
   ],
   "source": [
    "# This will give error\n",
    "try:\n",
    "    p1<p4\n",
    "except:\n",
    "    print 'error'"
   ]
  },
  {
   "cell_type": "markdown",
   "metadata": {},
   "source": [
    "The reason that p1<p4 does not run is that:\n",
    "\n",
    "p1 < p2 will be converted into p1.\\__lt__(p2) which applies the method associated with the type of p1.\n",
    "\n",
    "In the case of p4<p1, it invokes p4.\\__ls__(p1) associated with type of Person, which applies to both object p1 and p4, since p1 is inherited from class Person.\n",
    "\n",
    "However, p1<p4 invokes p1.\\__lt__(p4) associated with type of MITPerson, which compares the idNum. In this case, p4 does not share the same attribute. Therefore it does not run."
   ]
  },
  {
   "cell_type": "code",
   "execution_count": null,
   "metadata": {
    "collapsed": true
   },
   "outputs": [],
   "source": []
  }
 ],
 "metadata": {
  "kernelspec": {
   "display_name": "Python 2",
   "language": "python",
   "name": "python2"
  },
  "language_info": {
   "codemirror_mode": {
    "name": "ipython",
    "version": 2
   },
   "file_extension": ".py",
   "mimetype": "text/x-python",
   "name": "python",
   "nbconvert_exporter": "python",
   "pygments_lexer": "ipython2",
   "version": "2.7.10"
  }
 },
 "nbformat": 4,
 "nbformat_minor": 0
}
