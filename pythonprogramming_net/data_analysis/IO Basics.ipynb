{
 "cells": [
  {
   "cell_type": "markdown",
   "metadata": {},
   "source": [
    "## IO Basic (read csv/sql/html)\n",
    "\n",
    "### read csv\n"
   ]
  },
  {
   "cell_type": "code",
   "execution_count": 6,
   "metadata": {
    "collapsed": true
   },
   "outputs": [],
   "source": [
    "import pandas as pd\n",
    "df = pd.read_csv(\"./data/ZILL-Z07733_MSP.csv\")"
   ]
  },
  {
   "cell_type": "code",
   "execution_count": 7,
   "metadata": {
    "collapsed": false
   },
   "outputs": [
    {
     "name": "stdout",
     "output_type": "stream",
     "text": [
      "         Date   Value\n",
      "0  2016-05-31  615000\n",
      "1  2015-12-31  552500\n",
      "2  2015-11-30  609500\n",
      "3  2015-10-31  559750\n",
      "4  2015-09-30  657850\n"
     ]
    }
   ],
   "source": [
    "print df.head()"
   ]
  },
  {
   "cell_type": "code",
   "execution_count": 8,
   "metadata": {
    "collapsed": false
   },
   "outputs": [],
   "source": [
    "df.set_index('Date',inplace=True)\n",
    "df.to_csv('./data/newcsv.csv')"
   ]
  },
  {
   "cell_type": "code",
   "execution_count": 10,
   "metadata": {
    "collapsed": false
   },
   "outputs": [
    {
     "name": "stdout",
     "output_type": "stream",
     "text": [
      "         Date   Value\n",
      "0  2016-05-31  615000\n",
      "1  2015-12-31  552500\n",
      "2  2015-11-30  609500\n",
      "3  2015-10-31  559750\n",
      "4  2015-09-30  657850\n"
     ]
    }
   ],
   "source": [
    "df=pd.read_csv('./data/newcsv.csv')\n",
    "print(df.head())"
   ]
  },
  {
   "cell_type": "markdown",
   "metadata": {},
   "source": [
    "### Specify the index when read in file"
   ]
  },
  {
   "cell_type": "code",
   "execution_count": 13,
   "metadata": {
    "collapsed": false
   },
   "outputs": [
    {
     "name": "stdout",
     "output_type": "stream",
     "text": [
      "             Value\n",
      "Date              \n",
      "2016-05-31  615000\n",
      "2015-12-31  552500\n",
      "2015-11-30  609500\n",
      "2015-10-31  559750\n",
      "2015-09-30  657850\n"
     ]
    }
   ],
   "source": [
    "df=pd.read_csv('./data/newcsv.csv',index_col=0)\n",
    "print(df.head())"
   ]
  },
  {
   "cell_type": "markdown",
   "metadata": {},
   "source": [
    "### Rename column names"
   ]
  },
  {
   "cell_type": "code",
   "execution_count": 14,
   "metadata": {
    "collapsed": false
   },
   "outputs": [
    {
     "name": "stdout",
     "output_type": "stream",
     "text": [
      "            Holmdel_HPI\n",
      "Date                   \n",
      "2016-05-31       615000\n",
      "2015-12-31       552500\n",
      "2015-11-30       609500\n",
      "2015-10-31       559750\n",
      "2015-09-30       657850\n"
     ]
    }
   ],
   "source": [
    "df.columns = ['Holmdel_HPI']\n",
    "print(df.head())"
   ]
  },
  {
   "cell_type": "code",
   "execution_count": 15,
   "metadata": {
    "collapsed": true
   },
   "outputs": [],
   "source": [
    "df.to_csv('./data/newcsv2.csv')"
   ]
  },
  {
   "cell_type": "code",
   "execution_count": 16,
   "metadata": {
    "collapsed": true
   },
   "outputs": [],
   "source": [
    "# store it without headers\n",
    "df.to_csv('./data/newcsv3.csv',header = False)"
   ]
  },
  {
   "cell_type": "markdown",
   "metadata": {},
   "source": [
    "### Read with mannual specified column names"
   ]
  },
  {
   "cell_type": "code",
   "execution_count": 22,
   "metadata": {
    "collapsed": false
   },
   "outputs": [
    {
     "name": "stdout",
     "output_type": "stream",
     "text": [
      "            Holmdel_HPI\n",
      "Date                   \n",
      "2016-05-31       615000\n",
      "2015-12-31       552500\n",
      "2015-11-30       609500\n",
      "2015-10-31       559750\n",
      "2015-09-30       657850\n"
     ]
    }
   ],
   "source": [
    "df = pd.read_csv('./data/newcsv3.csv',names=['Date','Holmdel_HPI'],index_col=0)\n",
    "print (df.head())"
   ]
  },
  {
   "cell_type": "markdown",
   "metadata": {},
   "source": [
    "### Write DataFrame in html format"
   ]
  },
  {
   "cell_type": "code",
   "execution_count": 23,
   "metadata": {
    "collapsed": true
   },
   "outputs": [],
   "source": [
    "df.to_html('./data/example.html')  "
   ]
  },
  {
   "cell_type": "markdown",
   "metadata": {},
   "source": [
    "### Rename single column using dictionary"
   ]
  },
  {
   "cell_type": "code",
   "execution_count": 27,
   "metadata": {
    "collapsed": false
   },
   "outputs": [
    {
     "name": "stdout",
     "output_type": "stream",
     "text": [
      "         Date  Holmdel_HPI\n",
      "0  2016-05-31       615000\n",
      "1  2015-12-31       552500\n",
      "2  2015-11-30       609500\n",
      "3  2015-10-31       559750\n",
      "4  2015-09-30       657850\n",
      "         Date  HPI_07733\n",
      "0  2016-05-31     615000\n",
      "1  2015-12-31     552500\n",
      "2  2015-11-30     609500\n",
      "3  2015-10-31     559750\n",
      "4  2015-09-30     657850\n"
     ]
    }
   ],
   "source": [
    "df = pd.read_csv('./data/newcsv3.csv',names=['Date','Holmdel_HPI'])\n",
    "print (df.head())\n",
    "print (df.rename(columns={'Holmdel_HPI':'HPI_07733'}).head())"
   ]
  },
  {
   "cell_type": "code",
   "execution_count": null,
   "metadata": {
    "collapsed": true
   },
   "outputs": [],
   "source": []
  }
 ],
 "metadata": {
  "kernelspec": {
   "display_name": "Python 2",
   "language": "python",
   "name": "python2"
  },
  "language_info": {
   "codemirror_mode": {
    "name": "ipython",
    "version": 2
   },
   "file_extension": ".py",
   "mimetype": "text/x-python",
   "name": "python",
   "nbconvert_exporter": "python",
   "pygments_lexer": "ipython2",
   "version": "2.7.10"
  }
 },
 "nbformat": 4,
 "nbformat_minor": 1
}
