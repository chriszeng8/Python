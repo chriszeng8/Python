{
 "cells": [
  {
   "cell_type": "markdown",
   "metadata": {},
   "source": [
    "## Pandas Basics\n",
    "### Create a simple DataFrame"
   ]
  },
  {
   "cell_type": "code",
   "execution_count": 16,
   "metadata": {
    "collapsed": false
   },
   "outputs": [
    {
     "name": "stdout",
     "output_type": "stream",
     "text": [
      "   Bounce Rate  Day  Visitors\n",
      "0           65    1        43\n",
      "1           67    2        34\n",
      "2           78    3        65\n",
      "3           65    4        56\n",
      "4           45    5        29\n",
      "   Bounce Rate  Day  Visitors\n",
      "0           65    1        43\n",
      "1           67    2        34\n",
      "   Bounce Rate  Day  Visitors\n",
      "1           67    2        34\n",
      "2           78    3        65\n",
      "3           65    4        56\n",
      "4           45    5        29\n",
      "5           52    6        76\n"
     ]
    }
   ],
   "source": [
    "import pandas as pd\n",
    "import matplotlib.pyplot as plt\n",
    "from matplotlib import style\n",
    "style.use('ggplot')\n",
    "\n",
    "web_stats = {'Day':[1,2,3,4,5,6],\n",
    "             'Visitors':[43,34,65,56,29,76],\n",
    "             'Bounce Rate':[65,67,78,65,45,52]}\n",
    "\n",
    "\n",
    "df = pd.DataFrame(web_stats)\n",
    "print (df.head())\n",
    "print (df.head(2))\n",
    "print (df.tail())"
   ]
  },
  {
   "cell_type": "markdown",
   "metadata": {},
   "source": [
    "### Set a specific column as index\n",
    "#### 1.return a new data frame (the original data frame unchanged)"
   ]
  },
  {
   "cell_type": "code",
   "execution_count": 17,
   "metadata": {
    "collapsed": false
   },
   "outputs": [
    {
     "name": "stdout",
     "output_type": "stream",
     "text": [
      "     Bounce Rate  Visitors\n",
      "Day                       \n",
      "1             65        43\n",
      "2             67        34\n",
      "3             78        65\n",
      "4             65        56\n",
      "5             45        29\n",
      "6             52        76\n",
      "   Bounce Rate  Day  Visitors\n",
      "0           65    1        43\n",
      "1           67    2        34\n",
      "2           78    3        65\n",
      "3           65    4        56\n",
      "4           45    5        29\n",
      "5           52    6        76\n"
     ]
    }
   ],
   "source": [
    "#return a new data frame as Day as the index\n",
    "print(df.set_index('Day'))\n",
    "print df"
   ]
  },
  {
   "cell_type": "markdown",
   "metadata": {},
   "source": [
    "#### 2.modify the original data frame ```(inplace=True)```"
   ]
  },
  {
   "cell_type": "code",
   "execution_count": 18,
   "metadata": {
    "collapsed": false
   },
   "outputs": [
    {
     "name": "stdout",
     "output_type": "stream",
     "text": [
      "     Bounce Rate  Visitors\n",
      "Day                       \n",
      "1             65        43\n",
      "2             67        34\n",
      "3             78        65\n",
      "4             65        56\n",
      "5             45        29\n",
      "6             52        76\n"
     ]
    }
   ],
   "source": [
    "#modify the original data frame\n",
    "df.set_index('Day',inplace=True)\n",
    "print(df)"
   ]
  },
  {
   "cell_type": "markdown",
   "metadata": {},
   "source": [
    "### Refer to single column"
   ]
  },
  {
   "cell_type": "code",
   "execution_count": 19,
   "metadata": {
    "collapsed": false
   },
   "outputs": [
    {
     "name": "stdout",
     "output_type": "stream",
     "text": [
      "Day\n",
      "1      43\n",
      "2      34\n",
      "3      65\n",
      "4      56\n",
      "5      29\n",
      "6      76\n",
      "Name: Visitors, dtype: int64\n"
     ]
    }
   ],
   "source": [
    "print(df['Visitors'])"
   ]
  },
  {
   "cell_type": "code",
   "execution_count": 20,
   "metadata": {
    "collapsed": false
   },
   "outputs": [
    {
     "name": "stdout",
     "output_type": "stream",
     "text": [
      "Day\n",
      "1      43\n",
      "2      34\n",
      "3      65\n",
      "4      56\n",
      "5      29\n",
      "6      76\n",
      "Name: Visitors, dtype: int64\n"
     ]
    }
   ],
   "source": [
    "print(df.Visitors)"
   ]
  },
  {
   "cell_type": "markdown",
   "metadata": {},
   "source": [
    "### Refer to multiple columns"
   ]
  },
  {
   "cell_type": "code",
   "execution_count": 22,
   "metadata": {
    "collapsed": false
   },
   "outputs": [
    {
     "name": "stdout",
     "output_type": "stream",
     "text": [
      "     Bounce Rate  Visitors\n",
      "Day                       \n",
      "1             65        43\n",
      "2             67        34\n",
      "3             78        65\n",
      "4             65        56\n",
      "5             45        29\n",
      "6             52        76\n"
     ]
    }
   ],
   "source": [
    "print(df[['Bounce Rate','Visitors']])"
   ]
  },
  {
   "cell_type": "markdown",
   "metadata": {},
   "source": [
    "### Convert a single column to list"
   ]
  },
  {
   "cell_type": "code",
   "execution_count": 23,
   "metadata": {
    "collapsed": false
   },
   "outputs": [
    {
     "name": "stdout",
     "output_type": "stream",
     "text": [
      "[43, 34, 65, 56, 29, 76]\n"
     ]
    }
   ],
   "source": [
    "print(df.Visitors.tolist())"
   ]
  },
  {
   "cell_type": "code",
   "execution_count": 25,
   "metadata": {
    "collapsed": false
   },
   "outputs": [],
   "source": [
    "# However, convert multiple columns to list won't work \n",
    "#print(df[['Visitors','Bound Rate']].tolist())\n",
    "# will throw error"
   ]
  },
  {
   "cell_type": "markdown",
   "metadata": {},
   "source": [
    "### Convert multiple columns (data frame) to a np array"
   ]
  },
  {
   "cell_type": "code",
   "execution_count": 32,
   "metadata": {
    "collapsed": false
   },
   "outputs": [
    {
     "data": {
      "text/plain": [
       "array([[65, 43],\n",
       "       [67, 34],\n",
       "       [78, 65],\n",
       "       [65, 56],\n",
       "       [45, 29],\n",
       "       [52, 76]])"
      ]
     },
     "execution_count": 32,
     "metadata": {},
     "output_type": "execute_result"
    }
   ],
   "source": [
    "import numpy as np\n",
    "np.array(df[['Bounce Rate','Visitors']])"
   ]
  },
  {
   "cell_type": "markdown",
   "metadata": {},
   "source": [
    "### Convert np array into a DataFrame   "
   ]
  },
  {
   "cell_type": "code",
   "execution_count": 34,
   "metadata": {
    "collapsed": false
   },
   "outputs": [
    {
     "name": "stdout",
     "output_type": "stream",
     "text": [
      "    0   1\n",
      "0  65  43\n",
      "1  67  34\n",
      "2  78  65\n",
      "3  65  56\n",
      "4  45  29\n",
      "5  52  76\n"
     ]
    }
   ],
   "source": [
    "print(pd.DataFrame(np.array(df[['Bounce Rate','Visitors']])))"
   ]
  },
  {
   "cell_type": "code",
   "execution_count": null,
   "metadata": {
    "collapsed": true
   },
   "outputs": [],
   "source": []
  }
 ],
 "metadata": {
  "kernelspec": {
   "display_name": "Python 2",
   "language": "python",
   "name": "python2"
  },
  "language_info": {
   "codemirror_mode": {
    "name": "ipython",
    "version": 2
   },
   "file_extension": ".py",
   "mimetype": "text/x-python",
   "name": "python",
   "nbconvert_exporter": "python",
   "pygments_lexer": "ipython2",
   "version": "2.7.10"
  }
 },
 "nbformat": 4,
 "nbformat_minor": 1
}
