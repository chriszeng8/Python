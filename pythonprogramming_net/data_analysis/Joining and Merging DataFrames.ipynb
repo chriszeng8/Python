{
 "cells": [
  {
   "cell_type": "markdown",
   "metadata": {},
   "source": [
    "### Merging and Joining"
   ]
  },
  {
   "cell_type": "code",
   "execution_count": 16,
   "metadata": {
    "collapsed": true
   },
   "outputs": [],
   "source": [
    "import pandas as pd\n",
    "\n",
    "## note that df2 and df3 have different columns\n",
    "## d1 and d3 have different columns but share the same index\n",
    "\n",
    "df1 = pd.DataFrame({'HPI':[80,85,88,85],\n",
    "                    'Int_rate':[2, 3, 2, 2],\n",
    "                    'US_GDP_Thousands':[50, 55, 65, 55]},\n",
    "                   index = [2001, 2002, 2003, 2004])\n",
    "\n",
    "df2 = pd.DataFrame({'HPI':[80,85,88,85],\n",
    "                    'Int_rate':[2, 3, 2, 2],\n",
    "                    'US_GDP_Thousands':[50, 55, 65, 55]},\n",
    "                   index = [2005, 2006, 2007, 2008])\n",
    "\n",
    "df3 = pd.DataFrame({'HPI':[80,85,88,85],\n",
    "                    'Umemployment_rate':[2, 3, 2, 2],\n",
    "                    'Low_tier_HPI':[50, 52, 50, 53]},\n",
    "                   index = [2001, 2002, 2003, 2004])"
   ]
  },
  {
   "cell_type": "markdown",
   "metadata": {},
   "source": [
    "### Merge DataFrames with common columns"
   ]
  },
  {
   "cell_type": "markdown",
   "metadata": {},
   "source": [
    "#### Use single common column as merge index\n",
    "The merge will result loss of Index (interest rate column goes missing)"
   ]
  },
  {
   "cell_type": "code",
   "execution_count": 17,
   "metadata": {
    "collapsed": false
   },
   "outputs": [
    {
     "name": "stdout",
     "output_type": "stream",
     "text": [
      "   HPI  Int_rate_x  US_GDP_Thousands_x  Int_rate_y  US_GDP_Thousands_y\n",
      "0   80           2                  50           2                  50\n",
      "1   85           3                  55           3                  55\n",
      "2   85           3                  55           2                  55\n",
      "3   85           2                  55           3                  55\n",
      "4   85           2                  55           2                  55\n",
      "5   88           2                  65           2                  65\n"
     ]
    }
   ],
   "source": [
    "# Merged df1 and df2 on HPI, note that the index column is missing now\n",
    "print (pd.merge(df1,df2,on='HPI'))"
   ]
  },
  {
   "cell_type": "markdown",
   "metadata": {},
   "source": [
    "#### Use multiple common columns as merge index"
   ]
  },
  {
   "cell_type": "code",
   "execution_count": 20,
   "metadata": {
    "collapsed": false
   },
   "outputs": [
    {
     "name": "stdout",
     "output_type": "stream",
     "text": [
      "   HPI  Int_rate  US_GDP_Thousands_x  US_GDP_Thousands_y\n",
      "0   80         2                  50                  50\n",
      "1   85         3                  55                  55\n",
      "2   88         2                  65                  65\n",
      "3   85         2                  55                  55\n"
     ]
    }
   ],
   "source": [
    "# Merged df1 and df2 on HPI\n",
    "print (pd.merge(df1,df2,on=['HPI','Int_rate']))"
   ]
  },
  {
   "cell_type": "markdown",
   "metadata": {},
   "source": [
    "### Merge DataFrames without common columns"
   ]
  },
  {
   "cell_type": "code",
   "execution_count": 19,
   "metadata": {
    "collapsed": false
   },
   "outputs": [
    {
     "name": "stdout",
     "output_type": "stream",
     "text": [
      "   HPI  Int_rate  US_GDP_Thousands  Low_tier_HPI  Umemployment_rate\n",
      "0   80         2                50            50                  2\n",
      "1   85         3                55            52                  3\n",
      "2   85         3                55            53                  2\n",
      "3   85         2                55            52                  3\n",
      "4   85         2                55            53                  2\n",
      "5   88         2                65            50                  2\n"
     ]
    }
   ],
   "source": [
    "print (pd.merge(df1,df3,on='HPI'))"
   ]
  },
  {
   "cell_type": "code",
   "execution_count": 22,
   "metadata": {
    "collapsed": false
   },
   "outputs": [
    {
     "name": "stdout",
     "output_type": "stream",
     "text": [
      "     Int_rate  US_GDP_Thousands  Low_tier_HPI  Umemployment_rate\n",
      "HPI                                                             \n",
      "80          2                50            50                  2\n",
      "85          3                55            52                  3\n",
      "85          3                55            53                  2\n",
      "85          2                55            52                  3\n",
      "85          2                55            53                  2\n",
      "88          2                65            50                  2\n"
     ]
    }
   ],
   "source": [
    "df1_new = df1.set_index('HPI')\n",
    "df3_new = df3.set_index('HPI')\n",
    "\n",
    "joined = df1_new.join(df3_new)\n",
    "print joined"
   ]
  },
  {
   "cell_type": "markdown",
   "metadata": {},
   "source": [
    "### SQL like joining"
   ]
  },
  {
   "cell_type": "code",
   "execution_count": 36,
   "metadata": {
    "collapsed": false
   },
   "outputs": [],
   "source": [
    "df1 = pd.DataFrame({'Int_rate':[2, 3, 2, 2],\n",
    "                    'US_GDP_Thousands':[50, 55, 65, 55],\n",
    "                    'Year': [2001, 2002, 2003, 2004]})\n",
    "\n",
    "df2 = pd.DataFrame({'Umemployment_rate':[2, 3, 2, 2],\n",
    "                    'Low_tier_HPI':[50, 52, 50, 53],\n",
    "                    'Year': [2001, 2003, 2004, 2005]})"
   ]
  },
  {
   "cell_type": "markdown",
   "metadata": {},
   "source": [
    "#### Default join"
   ]
  },
  {
   "cell_type": "code",
   "execution_count": 37,
   "metadata": {
    "collapsed": false
   },
   "outputs": [
    {
     "name": "stdout",
     "output_type": "stream",
     "text": [
      "      Int_rate  US_GDP_Thousands  Low_tier_HPI  Umemployment_rate\n",
      "Year                                                             \n",
      "2001         2                50            50                  2\n",
      "2003         2                65            52                  3\n",
      "2004         2                55            50                  2\n"
     ]
    }
   ],
   "source": [
    "merged = pd.merge(df1,df2, on='Year')\n",
    "merged.set_index('Year',inplace = True)\n",
    "print(merged)"
   ]
  },
  {
   "cell_type": "markdown",
   "metadata": {},
   "source": [
    "### how (left/right/outter) join\n",
    "#### left join\n",
    "Merged based left data frame/table keys (left join)"
   ]
  },
  {
   "cell_type": "code",
   "execution_count": 30,
   "metadata": {
    "collapsed": false
   },
   "outputs": [
    {
     "name": "stdout",
     "output_type": "stream",
     "text": [
      "      Int_rate  US_GDP_Thousands  Low_tier_HPI  Umemployment_rate\n",
      "Year                                                             \n",
      "2001         2                50            50                  2\n",
      "2002         3                55           NaN                NaN\n",
      "2003         2                65            52                  3\n",
      "2004         2                55            50                  2\n"
     ]
    }
   ],
   "source": [
    "merged1 = pd.merge(df1,df2, on='Year',how='left')\n",
    "merged1.set_index('Year',inplace = True)\n",
    "print(merged1)"
   ]
  },
  {
   "cell_type": "markdown",
   "metadata": {},
   "source": [
    "#### right join"
   ]
  },
  {
   "cell_type": "code",
   "execution_count": 32,
   "metadata": {
    "collapsed": false
   },
   "outputs": [
    {
     "name": "stdout",
     "output_type": "stream",
     "text": [
      "      Int_rate  US_GDP_Thousands  Low_tier_HPI  Umemployment_rate\n",
      "Year                                                             \n",
      "2001         2                50            50                  2\n",
      "2003         2                65            52                  3\n",
      "2004         2                55            50                  2\n",
      "2005       NaN               NaN            53                  2\n"
     ]
    }
   ],
   "source": [
    "merged2 = pd.merge(df1,df2, on='Year',how='right')\n",
    "merged2.set_index('Year',inplace = True)\n",
    "print(merged2)"
   ]
  },
  {
   "cell_type": "markdown",
   "metadata": {},
   "source": [
    "#### outer join"
   ]
  },
  {
   "cell_type": "code",
   "execution_count": 34,
   "metadata": {
    "collapsed": false
   },
   "outputs": [
    {
     "name": "stdout",
     "output_type": "stream",
     "text": [
      "      Int_rate  US_GDP_Thousands  Low_tier_HPI  Umemployment_rate\n",
      "Year                                                             \n",
      "2001         2                50            50                  2\n",
      "2002         3                55           NaN                NaN\n",
      "2003         2                65            52                  3\n",
      "2004         2                55            50                  2\n",
      "2005       NaN               NaN            53                  2\n"
     ]
    }
   ],
   "source": [
    "merged3 = pd.merge(df1,df2, on='Year',how='outer')\n",
    "merged3.set_index('Year',inplace = True)\n",
    "print(merged3)"
   ]
  },
  {
   "cell_type": "markdown",
   "metadata": {},
   "source": [
    "#### inner join"
   ]
  },
  {
   "cell_type": "code",
   "execution_count": 35,
   "metadata": {
    "collapsed": false
   },
   "outputs": [
    {
     "name": "stdout",
     "output_type": "stream",
     "text": [
      "      Int_rate  US_GDP_Thousands  Low_tier_HPI  Umemployment_rate\n",
      "Year                                                             \n",
      "2001         2                50            50                  2\n",
      "2003         2                65            52                  3\n",
      "2004         2                55            50                  2\n"
     ]
    }
   ],
   "source": [
    "merged3 = pd.merge(df1,df2, on='Year',how='inner')\n",
    "merged3.set_index('Year',inplace = True)\n",
    "print(merged3)"
   ]
  }
 ],
 "metadata": {
  "kernelspec": {
   "display_name": "Python 2",
   "language": "python",
   "name": "python2"
  },
  "language_info": {
   "codemirror_mode": {
    "name": "ipython",
    "version": 2
   },
   "file_extension": ".py",
   "mimetype": "text/x-python",
   "name": "python",
   "nbconvert_exporter": "python",
   "pygments_lexer": "ipython2",
   "version": "2.7.10"
  }
 },
 "nbformat": 4,
 "nbformat_minor": 1
}
