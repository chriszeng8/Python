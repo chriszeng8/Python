{
 "cells": [
  {
   "cell_type": "markdown",
   "metadata": {},
   "source": [
    "Missing Data\n",
    "\n",
    "- Ignore the missing values (do nothing)\n",
    "- Drop the observations (rows) with missing values\n",
    "- Replace values (imputation)\n",
    "\n",
    "Imputation\n",
    "\n",
    "- Replace with mean, median\n",
    "- Replace with expert knowledge derived value (if have domain knowledge)\n",
    "\n",
    "sk-learn has imputation"
   ]
  },
  {
   "cell_type": "code",
   "execution_count": null,
   "metadata": {
    "collapsed": true
   },
   "outputs": [],
   "source": [
    "from sklearn.preprocessing import Imputer\n",
    "\n",
    "# Impute with mean all 0 readings,  axis=0 is for imputation of column variables\n",
    "fill_0 = Imputer(missing_values=0, strategy=\"mean\",axis = 0)\n",
    "\n",
    "X_train = fill_0.fit_transform(X_train)\n",
    "X_test = fill_0.fit_transform(X_test)"
   ]
  },
  {
   "cell_type": "markdown",
   "metadata": {},
   "source": [
    "### Alternative imputation: EM \n",
    "\n",
    "http://www.theanalysisfactor.com/em-imputation-and-missing-data-is-mean-imputation-really-so-terrible/\n",
    "http://www.stats.ox.ac.uk/~steffen/teaching/fsmHT07/fsm407c.pdf\n"
   ]
  },
  {
   "cell_type": "code",
   "execution_count": null,
   "metadata": {
    "collapsed": true
   },
   "outputs": [],
   "source": []
  }
 ],
 "metadata": {
  "kernelspec": {
   "display_name": "Python 3",
   "language": "python",
   "name": "python3"
  },
  "language_info": {
   "codemirror_mode": {
    "name": "ipython",
    "version": 3
   },
   "file_extension": ".py",
   "mimetype": "text/x-python",
   "name": "python",
   "nbconvert_exporter": "python",
   "pygments_lexer": "ipython3",
   "version": "3.6.0"
  }
 },
 "nbformat": 4,
 "nbformat_minor": 2
}
