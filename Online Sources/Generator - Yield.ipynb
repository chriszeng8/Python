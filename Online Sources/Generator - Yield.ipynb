{
 "cells": [
  {
   "cell_type": "markdown",
   "metadata": {},
   "source": [
    "http://www.bogotobogo.com/python/python_function_with_yield_keyword_is_a_generator_iterator_next.php\n",
    "\n",
    "__\"In short, a generator looks like a function but behaves like an iterator.\"__\n",
    "\n",
    "what actually returns is a generator object"
   ]
  },
  {
   "cell_type": "code",
   "execution_count": 7,
   "metadata": {
    "collapsed": false
   },
   "outputs": [
    {
     "name": "stdout",
     "output_type": "stream",
     "text": [
      "x= <generator object foo_with_yield at 0x1066ca7d0>\n",
      "next(x)= 1\n",
      "x= <generator object foo_with_yield at 0x1066ca7d0>\n",
      "next(x)= 2\n",
      "x= <generator object foo_with_yield at 0x1066ca7d0>\n",
      "next(x)= 3\n"
     ]
    }
   ],
   "source": [
    "def foo_with_yield():\n",
    "    yield 1\n",
    "    yield 2\n",
    "    yield 3\n",
    "\n",
    "x=foo_with_yield()\n",
    "print \"x= %s\"%x\n",
    "print \"next(x)= %s\"%next(x)\n",
    "print \"x= %s\"%x\n",
    "print \"next(x)= %s\"%next(x)\n",
    "print \"x= %s\"%x\n",
    "print \"next(x)= %s\"%next(x)"
   ]
  },
  {
   "cell_type": "markdown",
   "metadata": {},
   "source": [
    "The next() function takes a generator object and returns its next value. Repeatedly calling next() with the same generator object resumes exactly where it left off and continues until it hits the next yield statement. All variables and local state are saved on yield and restored on next()."
   ]
  },
  {
   "cell_type": "code",
   "execution_count": 8,
   "metadata": {
    "collapsed": false
   },
   "outputs": [
    {
     "name": "stdout",
     "output_type": "stream",
     "text": [
      "1\n",
      "2\n",
      "3\n"
     ]
    }
   ],
   "source": [
    "def foo_with_yield():\n",
    "    yield 1\n",
    "    yield 2\n",
    "    yield 3\n",
    "\n",
    "# iterative calls\n",
    "for yield_value in foo_with_yield():\n",
    "    print yield_value"
   ]
  },
  {
   "cell_type": "markdown",
   "metadata": {},
   "source": [
    "##What does for-loop do with the generator object?\n",
    "Generators are closely tied with the iteration protocol. Iterable objects define a __next__() method which either returns the next item in the iterator or raises the special StopIteration exception to end the iteration. An object's iterator is fetched with the iter built-in function."
   ]
  },
  {
   "cell_type": "markdown",
   "metadata": {},
   "source": [
    "To support this protocol, functions with yield statement are compiled specially as generators. They return a generator object when they are called. The returned object supports the iteration interface with an __automatically created ____next()____  method__ to resume execution. Generator functions may have a return simply terminates the generation of values by raising a StopIteration exceptions after any normal function exit."
   ]
  },
  {
   "cell_type": "code",
   "execution_count": null,
   "metadata": {
    "collapsed": true
   },
   "outputs": [],
   "source": []
  }
 ],
 "metadata": {
  "kernelspec": {
   "display_name": "Python 2",
   "language": "python",
   "name": "python2"
  },
  "language_info": {
   "codemirror_mode": {
    "name": "ipython",
    "version": 2
   },
   "file_extension": ".py",
   "mimetype": "text/x-python",
   "name": "python",
   "nbconvert_exporter": "python",
   "pygments_lexer": "ipython2",
   "version": "2.7.10"
  }
 },
 "nbformat": 4,
 "nbformat_minor": 0
}
